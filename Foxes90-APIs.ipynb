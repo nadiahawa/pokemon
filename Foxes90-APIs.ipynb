{
 "cells": [
  {
   "cell_type": "markdown",
   "id": "98120487",
   "metadata": {},
   "source": [
    "# APIs\n",
    "\n",
    "#### What are they and how do we use them\n",
    "\n",
    "<p> API stands for application programming interface - what an API actually does is provide a way for different servers, devices, and applications to send information back and forth in a commonly understood structure. </p>\n",
    "\n",
    "<p> So using an api, we can send data from an application written in one programming language to an application written in another programming language on a different server, and both applications can understand that data. </p>"
   ]
  },
  {
   "cell_type": "markdown",
   "id": "af83c4fc",
   "metadata": {},
   "source": [
    "<p> Its kind of like the kitchen in a restaurant -> they take the unprepared food items, chop them up, cook them, and lay them out nicely presented on a plate for the customers to consume as they please. </p>\n",
    "\n",
    "<p> APIs use data formats that can be understood by multiple programming languages -> the most common one we will use is called JSON data (JavaScript Object Notation) </p>"
   ]
  },
  {
   "cell_type": "markdown",
   "id": "b147e1ab",
   "metadata": {},
   "source": [
    "### Importing the Requests library"
   ]
  },
  {
   "cell_type": "code",
   "execution_count": 3,
   "id": "e1c03ba7",
   "metadata": {},
   "outputs": [
    {
     "data": {
      "text/plain": [
       "200"
      ]
     },
     "execution_count": 3,
     "metadata": {},
     "output_type": "execute_result"
    }
   ],
   "source": [
    "import requests as r # often requests is imported under the alias r\n"
   ]
  },
  {
   "cell_type": "markdown",
   "id": "4c224973",
   "metadata": {},
   "source": [
    "### Making a [GET] request"
   ]
  },
  {
   "cell_type": "code",
   "execution_count": null,
   "id": "0dd06ab5",
   "metadata": {},
   "outputs": [],
   "source": [
    "# Make a get request (receive information from the API)"
   ]
  },
  {
   "cell_type": "markdown",
   "id": "5e3386a5",
   "metadata": {},
   "source": [
    "### Checking status code of response object"
   ]
  },
  {
   "cell_type": "code",
   "execution_count": null,
   "id": "87346346",
   "metadata": {},
   "outputs": [],
   "source": [
    "# Check Status Code"
   ]
  },
  {
   "cell_type": "markdown",
   "id": "ccc23ca5",
   "metadata": {},
   "source": [
    "### Accessing the body/data of the response"
   ]
  },
  {
   "cell_type": "code",
   "execution_count": null,
   "id": "038a5ef5",
   "metadata": {},
   "outputs": [],
   "source": [
    "# .json()"
   ]
  },
  {
   "cell_type": "markdown",
   "id": "ca301ee6",
   "metadata": {},
   "source": [
    "### Request Headers... what are those?\n",
    "<p>Headers are essentially configuration/options/metadata for your request. Many APIs require specific headers.</p>\n",
    "<p>For an example of setting custom headers, see the tokenization and OAuth sections below.</p>"
   ]
  },
  {
   "cell_type": "markdown",
   "id": "d0c05800",
   "metadata": {},
   "source": [
    "### Introduction to Authorization\n",
    "###### APIs often require permission to access their data\n",
    "<p>Some APIs require no authorization. These are the ones we've looked at so far</p>\n",
    "<p>Some APIs require an API key. This is essentially a password you must use to access the API endpoints</p>\n",
    "<p>Some APIs use tokens. This is a password that must be passed through the request's headers</p>\n",
    "<p>Some APIs use <a href=\"https://oauth.net/2/\">OAuth 2.0</a>. OAuth is the industry standard for strong API authorization practices.</p>"
   ]
  },
  {
   "cell_type": "code",
   "execution_count": 1,
   "id": "74a7c191",
   "metadata": {},
   "outputs": [],
   "source": [
    "# example of a request with no auth\n",
    "# ErgastAPI, PokeAPI"
   ]
  },
  {
   "cell_type": "code",
   "execution_count": null,
   "id": "561b1d64",
   "metadata": {},
   "outputs": [],
   "source": [
    "# example of a request using an API key\n",
    "# openweathermapAPI"
   ]
  },
  {
   "cell_type": "code",
   "execution_count": null,
   "id": "867c1bb1",
   "metadata": {},
   "outputs": [],
   "source": [
    "# many APIs have different auth practices for different endpoints\n",
    "# my custom APIs - open for reading data (GET)\n",
    "\n",
    "# tokenized for deleting or changing data (POST/PUT)\n",
    "# example of working with an API token in the headers"
   ]
  },
  {
   "cell_type": "code",
   "execution_count": null,
   "id": "51c6775b",
   "metadata": {},
   "outputs": [],
   "source": [
    "# "
   ]
  },
  {
   "cell_type": "markdown",
   "id": "da1d6508",
   "metadata": {},
   "source": [
    "### Types of Requests - GET vs. POST vs. PUT vs. DELETE\n",
    "<p>Above when working with the OAuth and tokenized APIs we didnt use r.get()... what was happening?</p>\n",
    "<p>Depending on the purpose of your request - you will be sending a different type of request!</p>\n",
    "<p>[GET] requests are the most common type of request - used to receive data from an endpoint.</p>\n",
    "<p>[POST] requests are for sending data to an endpoint.</p>\n",
    "<p>[PUT] requests are for updating data at an endpoint.</p>\n",
    "<p>[DELETE] requests are for.... surprisingly.... deleting data. Who knew?!</p>"
   ]
  },
  {
   "cell_type": "code",
   "execution_count": null,
   "id": "64141abf",
   "metadata": {},
   "outputs": [],
   "source": []
  },
  {
   "cell_type": "code",
   "execution_count": null,
   "id": "51523459",
   "metadata": {},
   "outputs": [],
   "source": []
  },
  {
   "cell_type": "code",
   "execution_count": null,
   "id": "2ac4f3c7",
   "metadata": {},
   "outputs": [],
   "source": []
  },
  {
   "cell_type": "code",
   "execution_count": 1,
   "id": "47d3536e",
   "metadata": {},
   "outputs": [
    {
     "ename": "KeyError",
     "evalue": "'game_indicies'",
     "output_type": "error",
     "traceback": [
      "\u001b[1;31m---------------------------------------------------------------------------\u001b[0m",
      "\u001b[1;31mKeyError\u001b[0m                                  Traceback (most recent call last)",
      "\u001b[1;32m~\\AppData\\Local\\Temp/ipykernel_26244/1041850753.py\u001b[0m in \u001b[0;36m<module>\u001b[1;34m\u001b[0m\n\u001b[0;32m      8\u001b[0m \u001b[1;32mif\u001b[0m \u001b[0mentei\u001b[0m\u001b[1;33m.\u001b[0m\u001b[0mstatus_code\u001b[0m \u001b[1;33m==\u001b[0m \u001b[1;36m200\u001b[0m\u001b[1;33m:\u001b[0m\u001b[1;33m\u001b[0m\u001b[1;33m\u001b[0m\u001b[0m\n\u001b[0;32m      9\u001b[0m     \u001b[0mentei\u001b[0m \u001b[1;33m=\u001b[0m \u001b[0mentei\u001b[0m\u001b[1;33m.\u001b[0m\u001b[0mjson\u001b[0m\u001b[1;33m(\u001b[0m\u001b[1;33m)\u001b[0m\u001b[1;33m\u001b[0m\u001b[1;33m\u001b[0m\u001b[0m\n\u001b[1;32m---> 10\u001b[1;33m \u001b[0mentei\u001b[0m\u001b[1;33m[\u001b[0m\u001b[1;34m'game_indicies'\u001b[0m\u001b[1;33m]\u001b[0m\u001b[1;33m[\u001b[0m\u001b[1;36m5\u001b[0m\u001b[1;33m]\u001b[0m\u001b[1;33m[\u001b[0m\u001b[1;34m'version'\u001b[0m\u001b[1;33m]\u001b[0m\u001b[1;33m[\u001b[0m\u001b[1;34m'name'\u001b[0m\u001b[1;33m]\u001b[0m\u001b[1;33m\u001b[0m\u001b[1;33m\u001b[0m\u001b[0m\n\u001b[0m\u001b[0;32m     11\u001b[0m \u001b[1;33m\u001b[0m\u001b[0m\n",
      "\u001b[1;31mKeyError\u001b[0m: 'game_indicies'"
     ]
    }
   ],
   "source": [
    "# In-Class Exercise\n",
    "# From this API Endpoint: 'https://pokeapi.co/api/v2/pokemon/entei'\n",
    "# Access the string 'emerald' thats located somewhere within game_indices\n",
    "\n",
    "import requests as r\n",
    "entei = r.get('https://pokeapi.co/api/v2/pokemon/entei')\n",
    "#check the status code and grab json data if OK \n",
    "if entei.status_code == 200:\n",
    "    entei = entei.json()\n",
    "entei['game_indicies'][5]['version']['name']\n",
    "\n"
   ]
  },
  {
   "cell_type": "code",
   "execution_count": null,
   "id": "a34d01cc",
   "metadata": {},
   "outputs": [],
   "source": [
    "# What are the names of all of the Pokemon games that Entei is in?\n",
    "# I want a list of the names of every game Entei is in.\n",
    "\n",
    "# Well, if I can do it for one piece of the data, I can do it for all similary structure data\n",
    "entei_games = [v['version']['name']for v in entei['game_indices']]\n",
    "print(entei_games)\n",
    "\n",
    "\n"
   ]
  },
  {
   "cell_type": "code",
   "execution_count": null,
   "id": "7d1f4f19",
   "metadata": {},
   "outputs": [],
   "source": [
    "# End goal structure for the basic version of the assignment:\n",
    "\n",
    "# Goal is to make 20 pokemon\n",
    "# Each pokemon is a dictionary\n",
    "\n",
    "\n",
    "\n",
    "# after you make all the individual pokemon\n",
    "# put them in a dictionary of lists based on type\n"
   ]
  },
  {
   "cell_type": "code",
   "execution_count": null,
   "id": "d7d487f3",
   "metadata": {},
   "outputs": [],
   "source": [
    "# remember that string concatenation is a thing and/or that f-strings work here\n"
   ]
  },
  {
   "cell_type": "code",
   "execution_count": null,
   "id": "9a29a682",
   "metadata": {},
   "outputs": [],
   "source": [
    "import requests as r\n",
    "# Instead of Making a Pokemon Dictionary, I want to make pokemon objects\n",
    "# I want to store those pokemon objects in a dictionary where the key is the pokemon's name\n",
    "# {\n",
    "# 'grovyle' : <pokemon_object for grovyle @ 0x304180sflk31sj>\n",
    "# }\n",
    "# I want to be able to pass a dictionary made from the API call .json() data into the __init__() of Pokemon class\n",
    "# and have the pokemon's attributes be filled out from there\n",
    "\n",
    "# let me lay out my skeleton code\n",
    "# pokemon object is gonna have the same attributes\n",
    "    # name=str, abilities=[], types=[], weight=int\n",
    "# pokemon object methods\n",
    "    # display that prints our pokemon's info nice and pretty prettily? fancy-lookin.\n",
    "\n",
    "# second class pokedex\n",
    "    # 1 attribute - the dictionary of all the pokemon\n",
    "    \n",
    "    # 3 methods\n",
    "        # 1 create pokemon -> take in a list of pokemon names, and fill up our objects/dictionary\n",
    "        # 2 display function - to show all the pokemon\n",
    "        # 3 searching function to display based on the pokemon type asked for\n",
    "        \n",
    "        \n",
    "        \n",
    "        \n",
    "# pokemon objects\n",
    "\n",
    "\n",
    "\n",
    "\n",
    "\n",
    "# pokedex objects\n",
    "\n",
    "\n",
    "\n",
    "\n"
   ]
  },
  {
   "cell_type": "code",
   "execution_count": null,
   "id": "5950b858",
   "metadata": {},
   "outputs": [],
   "source": [
    "# Driver Code"
   ]
  },
  {
   "cell_type": "code",
   "execution_count": null,
   "id": "115f0039",
   "metadata": {},
   "outputs": [],
   "source": [
    "import requests as r\n",
    "\n"
   ]
  }
 ],
 "metadata": {
  "kernelspec": {
   "display_name": "Python 3 (ipykernel)",
   "language": "python",
   "name": "python3"
  },
  "language_info": {
   "codemirror_mode": {
    "name": "ipython",
    "version": 3
   },
   "file_extension": ".py",
   "mimetype": "text/x-python",
   "name": "python",
   "nbconvert_exporter": "python",
   "pygments_lexer": "ipython3",
   "version": "3.9.7"
  }
 },
 "nbformat": 4,
 "nbformat_minor": 5
}
